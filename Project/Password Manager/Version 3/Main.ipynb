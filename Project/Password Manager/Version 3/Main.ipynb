{
 "cells": [
  {
   "cell_type": "code",
   "execution_count": 1,
   "id": "8564872e",
   "metadata": {},
   "outputs": [],
   "source": [
    "from Encryptor import *\n",
    "from Decryptor import *\n"
   ]
  },
  {
   "cell_type": "code",
   "execution_count": 2,
   "id": "19fc63d5",
   "metadata": {},
   "outputs": [],
   "source": [
    "class Password:\n",
    "    def __init__(self,website,username,pword) -> None:\n",
    "        self.website=website\n",
    "        self.username=username\n",
    "        self.pword=pword\n",
    "\n",
    "    def __str__(self) -> str:\n",
    "        return (f'{self.website}\\n{self.username}\\n{self.pword}')\n"
   ]
  },
  {
   "cell_type": "code",
   "execution_count": 6,
   "id": "e6d245d1",
   "metadata": {},
   "outputs": [],
   "source": [
    "    \n",
    "code=int(input(\"what is your code : \"))\n",
    "what=input(\"Do you wanna add passwords or view passwords : \")\n",
    "what=what.lower()\n"
   ]
  },
  {
   "cell_type": "code",
   "execution_count": 7,
   "id": "9928e3ea",
   "metadata": {},
   "outputs": [
    {
     "name": "stdout",
     "output_type": "stream",
     "text": [
      "Website is :  facebook\n",
      "Username :  anshfacebookpass\n",
      "Password :  anshbharwaj\n",
      "Website is :  facebook\n",
      "Username :  bhardwaj\n",
      "Password :  inshaqntgwrnsta\n"
     ]
    },
    {
     "ename": "",
     "evalue": "",
     "output_type": "error",
     "traceback": [
      "\u001b[1;31mThe Kernel crashed while executing code in the the current cell or a previous cell. Please review the code in the cell(s) to identify a possible cause of the failure. Click <a href='https://aka.ms/vscodeJupyterKernelCrash'>here</a> for more info. View Jupyter <a href='command:jupyter.viewOutput'>log</a> for further details."
     ]
    }
   ],
   "source": [
    "if what=='view':\n",
    "    what=input(\"which website : \")\n",
    "    f=open(\"DataBase.txt\",'r')\n",
    "    while True:\n",
    "        line = f.readline()\n",
    "        if not line:\n",
    "            break\n",
    "        d_line=decrypt(line[:-1],code)\n",
    "        if what==d_line:\n",
    "            print (\"Website is : \",d_line)\n",
    "            user_ = f.readline()\n",
    "            print (\"Username : \",decrypt(user_[:-1],code))\n",
    "            pass_ = f.readline()\n",
    "            print (\"Password : \",decrypt(pass_[:-1],code))\n",
    "            exit()\n",
    "        else:\n",
    "            pass\n",
    "    f.close()\n"
   ]
  },
  {
   "cell_type": "code",
   "execution_count": null,
   "id": "96c0e852",
   "metadata": {},
   "outputs": [],
   "source": [
    "if what=='add':\n",
    "    new_pass=open(\"DataBase.txt\",'a')\n",
    "    n=int(input(\"How many passwords do you have : \"))\n",
    "    for i in range(n):\n",
    "        web=input(\"Which website is it : \")\n",
    "        p_word=input(\"what is your username : \")\n",
    "        u_name=input(\"what is your password : \") \n",
    "        e_pass=encrypt(p_word,code)\n",
    "        e_web=encrypt(web,code)\n",
    "        e_name=encrypt(u_name,code)\n",
    "        pass1=Password(e_web,e_name,e_pass)\n",
    "        data=pass1\n",
    "        new_pass.writelines(f'{pass1}')\n",
    "    new_pass.close()"
   ]
  }
 ],
 "metadata": {
  "kernelspec": {
   "display_name": "Python 3 (ipykernel)",
   "language": "python",
   "name": "python3"
  },
  "language_info": {
   "codemirror_mode": {
    "name": "ipython",
    "version": 3
   },
   "file_extension": ".py",
   "mimetype": "text/x-python",
   "name": "python",
   "nbconvert_exporter": "python",
   "pygments_lexer": "ipython3",
   "version": "3.10.6"
  }
 },
 "nbformat": 4,
 "nbformat_minor": 5
}
